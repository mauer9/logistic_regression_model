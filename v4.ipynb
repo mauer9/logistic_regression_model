{
 "cells": [
  {
   "attachments": {},
   "cell_type": "markdown",
   "metadata": {},
   "source": [
    "binning process"
   ]
  },
  {
   "cell_type": "code",
   "execution_count": 1,
   "metadata": {},
   "outputs": [
    {
     "name": "stdout",
     "output_type": "stream",
     "text": [
      "(CVXPY) Jun 05 11:26:16 PM: Encountered unexpected exception importing solver GLOP:\n",
      "RuntimeError('Unrecognized new version of ortools (9.6.2534). Expected < 9.5.0.Please open a feature request on cvxpy to enable support for this version.')\n",
      "(CVXPY) Jun 05 11:26:16 PM: Encountered unexpected exception importing solver PDLP:\n",
      "RuntimeError('Unrecognized new version of ortools (9.6.2534). Expected < 9.5.0.Please open a feature request on cvxpy to enable support for this version.')\n"
     ]
    }
   ],
   "source": [
    "import numpy as np\n",
    "import pandas as pd   \n",
    "import matplotlib.pyplot as plt\n",
    "import seaborn as sns\n",
    "\n",
    "import sklearn.metrics as metrics\n",
    "from sklearn.model_selection import train_test_split\n",
    "from sklearn.linear_model import LogisticRegression\n",
    "\n",
    "from optbinning import BinningProcess"
   ]
  },
  {
   "cell_type": "code",
   "execution_count": 2,
   "metadata": {},
   "outputs": [],
   "source": [
    "df = pd.read_parquet('german_credit_data.parquet').drop('Unnamed: 0', axis=1)"
   ]
  },
  {
   "cell_type": "code",
   "execution_count": 3,
   "metadata": {},
   "outputs": [],
   "source": [
    "df = df.rename(columns = {\n",
    "    'Sex': 'Gender',\n",
    "    'Saving accounts': 'Saving_acc',\n",
    "    'Checking account': 'Checking_acc',\n",
    "    'Credit amount': 'Credit_mnt',\n",
    "})\n",
    "\n",
    "df.Gender = df.Gender.apply(lambda x: 1 if x == 'male' else 0)\n",
    "df.Risk = df.Risk.apply(lambda x: 1 if x == 'good' else 0)\n",
    "\n",
    "df.Saving_acc = df.Saving_acc.map({\n",
    "    None: 'none',\n",
    "    'little': 'low',\n",
    "    'moderate': 'medium',\n",
    "    'quite rich': 'high',\n",
    "    'rich': 'high'\n",
    "})\n",
    "df.Checking_acc = df.Checking_acc.map({\n",
    "    None: 'none',\n",
    "    'little': 'low',\n",
    "    'moderate': 'medium',\n",
    "    'rich': 'high'\n",
    "})\n",
    "\n",
    "df.Purpose = df.Purpose.str.replace('/', '_').str.replace(' ', '_')"
   ]
  },
  {
   "cell_type": "code",
   "execution_count": 4,
   "metadata": {},
   "outputs": [],
   "source": [
    "y = df.Risk\n",
    "X = df.loc[:, df.columns != 'Risk']\n",
    "\n",
    "X_train, X_test, y_train, y_test = train_test_split(X, y, random_state=42)"
   ]
  },
  {
   "cell_type": "code",
   "execution_count": 5,
   "metadata": {},
   "outputs": [],
   "source": [
    "binning_process = BinningProcess(X_train.columns.tolist())\n",
    "\n",
    "X_train = binning_process.fit_transform(X_train, y_train)\n",
    "X_test = binning_process.fit_transform(X_test, y_test)"
   ]
  },
  {
   "cell_type": "code",
   "execution_count": 6,
   "metadata": {},
   "outputs": [
    {
     "data": {
      "image/png": "[encoded data removed]",
      "text/plain": [
       "<Figure size 640x480 with 2 Axes>"
      ]
     },
     "metadata": {},
     "output_type": "display_data"
    },
    {
     "name": "stdout",
     "output_type": "stream",
     "text": [
      "Accuracy score:  0.80\n",
      "F1 score:        0.86\n",
      "Precision score: 0.84\n",
      "Recall score:    0.89\n"
     ]
    }
   ],
   "source": [
    "model = LogisticRegression(random_state=0)\n",
    "\n",
    "model.fit(X_train, y_train)\n",
    "y_predicted = model.predict(X_test)\n",
    "\n",
    "sns.heatmap(\n",
    "    metrics.confusion_matrix(y_test, y_predicted, normalize='all'),\n",
    "    cmap='Blues', annot=True, fmt='.2f'\n",
    ")\n",
    "plt.show()\n",
    "\n",
    "print('Accuracy score:  {:.2f}'.format( metrics.accuracy_score(y_test, y_predicted) ))\n",
    "print('F1 score:        {:.2f}'.format( metrics.f1_score(y_test, y_predicted) ))\n",
    "print('Precision score: {:.2f}'.format( metrics.precision_score(y_test, y_predicted) ))\n",
    "print('Recall score:    {:.2f}'.format( metrics.recall_score(y_test, y_predicted) ))"
   ]
  }
 ],
 "metadata": {
  "kernelspec": {
   "display_name": "Python 3 (ipykernel)",
   "language": "python",
   "name": "python3"
  },
  "language_info": {
   "codemirror_mode": {
    "name": "ipython",
    "version": 3
   },
   "file_extension": ".py",
   "mimetype": "text/x-python",
   "name": "python",
   "nbconvert_exporter": "python",
   "pygments_lexer": "ipython3",
   "version": "3.11.3"
  },
  "toc-autonumbering": false
 },
 "nbformat": 4,
 "nbformat_minor": 4
}
