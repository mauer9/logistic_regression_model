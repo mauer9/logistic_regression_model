{
 "cells": [
  {
   "cell_type": "code",
   "execution_count": 1,
   "metadata": {
    "tags": []
   },
   "outputs": [],
   "source": [
    "import numpy as np\n",
    "import pandas as pd   \n",
    "import matplotlib.pyplot as plt\n",
    "import seaborn as sns\n",
    "\n",
    "from sklearn.model_selection import train_test_split\n",
    "from sklearn.linear_model import LogisticRegression\n",
    "import sklearn.metrics as metrics"
   ]
  },
  {
   "cell_type": "code",
   "execution_count": 2,
   "metadata": {},
   "outputs": [],
   "source": [
    "df = pd.read_parquet('german_credit_data.parquet').drop('Unnamed: 0', axis=1)"
   ]
  },
  {
   "cell_type": "code",
   "execution_count": 3,
   "metadata": {},
   "outputs": [],
   "source": [
    "df = df.rename(columns = {\n",
    "    'Sex': 'Gender',\n",
    "    'Saving accounts': 'Saving_acc',\n",
    "    'Checking account': 'Checking_acc',\n",
    "    'Credit amount': 'Credit_mnt',\n",
    "})\n",
    "\n",
    "df.Gender = df.Gender.apply(lambda x: 1 if x == 'male' else 0)\n",
    "df.Risk = df.Risk.apply(lambda x: 1 if x == 'good' else 0)\n",
    "\n",
    "df.Saving_acc = df.Saving_acc.map({\n",
    "    None: 'none',\n",
    "    'little': 'low',\n",
    "    'moderate': 'medium',\n",
    "    'quite rich': 'high',\n",
    "    'rich': 'high'\n",
    "})\n",
    "df.Checking_acc = df.Checking_acc.map({\n",
    "    None: 'none',\n",
    "    'little': 'low',\n",
    "    'moderate': 'medium',\n",
    "    'rich': 'high'\n",
    "})\n",
    "\n",
    "df.Purpose = df.Purpose.str.replace('/', '_').str.replace(' ', '_')"
   ]
  },
  {
   "cell_type": "code",
   "execution_count": 4,
   "metadata": {},
   "outputs": [],
   "source": [
    "def categorize(df, feature):\n",
    "    cutted = pd.qcut(df[feature], 3, ['low', 'medium', 'high'])\n",
    "    categorized = pd.DataFrame(cutted)\n",
    "    df[feature] = categorized\n",
    "    return df"
   ]
  },
  {
   "cell_type": "code",
   "execution_count": 5,
   "metadata": {},
   "outputs": [],
   "source": [
    "def get_woe_map(df, feature, target):\n",
    "    lst = []\n",
    "    df[feature] = df[feature].fillna(\"NULL\")\n",
    "\n",
    "    for i in range(df[feature].nunique()):\n",
    "        val = list(df[feature].unique())[i]\n",
    "        lst.append([feature,                                                        # Variable\n",
    "                    val,                                                            # Value\n",
    "                    df[df[feature] == val].count()[feature],                        # All\n",
    "                    df[(df[feature] == val) & (df[target] == 0)].count()[feature],  # Good\n",
    "                    df[(df[feature] == val) & (df[target] == 1)].count()[feature]]) # Bad\n",
    "        \n",
    "    data = pd.DataFrame(lst, columns=['Variable', 'Value', 'All', 'Good', 'Bad'])\n",
    "\n",
    "    data['Distribution Good'] = (\n",
    "        (data['All'] - data['Bad']) / (data['All'].sum() - data['Bad'].sum())\n",
    "    )\n",
    "    data['Distribution Bad'] = data['Bad'] / data['Bad'].sum()\n",
    "    data['WoE'] = np.log(data['Distribution Good'] / data['Distribution Bad'])\n",
    "\n",
    "    data = data.replace({'WoE': {np.inf: 0, -np.inf: 0}})\n",
    "\n",
    "\n",
    "    data = data.sort_values(by='WoE')\n",
    "    data.index = range(len(data.index))\n",
    "    data = data.set_index('Value')['WoE'].to_dict()\n",
    "    \n",
    "    return data"
   ]
  },
  {
   "cell_type": "code",
   "execution_count": 6,
   "metadata": {},
   "outputs": [],
   "source": [
    "def woe_map_it(df, feature, target):\n",
    "    df[feature] = df[feature].map( get_woe_map(df, feature, target) )"
   ]
  },
  {
   "cell_type": "code",
   "execution_count": 7,
   "metadata": {},
   "outputs": [],
   "source": [
    "y = df.Risk\n",
    "X = df.loc[:, df.columns != 'Risk']\n",
    "\n",
    "X_train, X_test, y_train, y_test = train_test_split(X, y, random_state=42)"
   ]
  },
  {
   "cell_type": "code",
   "execution_count": 8,
   "metadata": {},
   "outputs": [],
   "source": [
    "X_train['Risk'] = y_train\n",
    "df_train = X_train\n",
    "\n",
    "X_test['Risk'] = y_test\n",
    "df_test = X_test"
   ]
  },
  {
   "cell_type": "code",
   "execution_count": 9,
   "metadata": {},
   "outputs": [],
   "source": [
    "def categorize_and_map_df(df):\n",
    "    categorize(df, 'Age')\n",
    "    categorize(df, 'Credit_mnt')\n",
    "    categorize(df, 'Duration')\n",
    "\n",
    "    woe_map_it(df, 'Age', 'Risk')\n",
    "    woe_map_it(df, 'Job', 'Risk')\n",
    "    woe_map_it(df, 'Housing', 'Risk')\n",
    "    woe_map_it(df, 'Saving_acc', 'Risk')\n",
    "    woe_map_it(df, 'Checking_acc', 'Risk')\n",
    "    woe_map_it(df, 'Credit_mnt', 'Risk')\n",
    "    woe_map_it(df, 'Duration', 'Risk')\n",
    "    woe_map_it(df, 'Purpose', 'Risk')"
   ]
  },
  {
   "cell_type": "code",
   "execution_count": 10,
   "metadata": {},
   "outputs": [
    {
     "name": "stderr",
     "output_type": "stream",
     "text": [
      "/home/mauer/.local/lib/python3.11/site-packages/pandas/core/arraylike.py:402: RuntimeWarning: divide by zero encountered in log\n",
      "  result = getattr(ufunc, method)(*inputs, **kwargs)\n"
     ]
    }
   ],
   "source": [
    "categorize_and_map_df(df_train)\n",
    "categorize_and_map_df(df_test)"
   ]
  },
  {
   "cell_type": "code",
   "execution_count": 20,
   "metadata": {},
   "outputs": [],
   "source": [
    "y_train = df_train.Risk\n",
    "X_train = df_train.loc[:, df.columns != 'Risk']\n",
    "\n",
    "y_test = df_test.Risk\n",
    "X_test = df_test.loc[:, df.columns != 'Risk']"
   ]
  },
  {
   "cell_type": "code",
   "execution_count": 21,
   "metadata": {},
   "outputs": [
    {
     "data": {
      "image/png": "[encoded data removed]",
      "text/plain": [
       "<Figure size 640x480 with 2 Axes>"
      ]
     },
     "metadata": {},
     "output_type": "display_data"
    },
    {
     "name": "stdout",
     "output_type": "stream",
     "text": [
      "Accuracy score:  0.76\n",
      "F1 score:        0.84\n",
      "Precision score: 0.80\n",
      "Recall score:    0.89\n"
     ]
    }
   ],
   "source": [
    "model = LogisticRegression()\n",
    "\n",
    "model.fit(X_train, y_train)\n",
    "y_predicted = model.predict(X_test)\n",
    "\n",
    "sns.heatmap(\n",
    "    metrics.confusion_matrix(y_test, y_predicted, normalize='all'),\n",
    "    cmap='Blues', annot=True, fmt='.2f'\n",
    ")\n",
    "plt.show()\n",
    "\n",
    "print('Accuracy score:  {:.2f}'.format( metrics.accuracy_score(y_test, y_predicted) ))\n",
    "print('F1 score:        {:.2f}'.format( metrics.f1_score(y_test, y_predicted) ))\n",
    "print('Precision score: {:.2f}'.format( metrics.precision_score(y_test, y_predicted) ))\n",
    "print('Recall score:    {:.2f}'.format( metrics.recall_score(y_test, y_predicted) ))"
   ]
  }
 ],
 "metadata": {
  "kernelspec": {
   "display_name": "Python 3 (ipykernel)",
   "language": "python",
   "name": "python3"
  },
  "language_info": {
   "codemirror_mode": {
    "name": "ipython",
    "version": 3
   },
   "file_extension": ".py",
   "mimetype": "text/x-python",
   "name": "python",
   "nbconvert_exporter": "python",
   "pygments_lexer": "ipython3",
   "version": "3.11.3"
  },
  "toc-autonumbering": false
 },
 "nbformat": 4,
 "nbformat_minor": 4
}
